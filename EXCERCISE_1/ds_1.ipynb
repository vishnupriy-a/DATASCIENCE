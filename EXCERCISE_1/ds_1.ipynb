{
 "cells": [
  {
   "cell_type": "code",
   "execution_count": 1,
   "id": "44f2672a-848b-4539-ae20-f142c9e70edb",
   "metadata": {},
   "outputs": [],
   "source": [
    "import numpy as np\n",
    "m=np.array([3,6,8])\n",
    "n=np.array([6,7,2])\n"
   ]
  },
  {
   "cell_type": "code",
   "execution_count": 2,
   "id": "d86a4d17-fc61-451a-aaf1-8b150c87cbf8",
   "metadata": {},
   "outputs": [
    {
     "name": "stdout",
     "output_type": "stream",
     "text": [
      "[False False  True]\n"
     ]
    }
   ],
   "source": [
    "print(np.greater(m,n))"
   ]
  },
  {
   "cell_type": "code",
   "execution_count": 3,
   "id": "5568da9e-8842-4af7-8579-8fe8579835b3",
   "metadata": {},
   "outputs": [
    {
     "name": "stdout",
     "output_type": "stream",
     "text": [
      "[ True  True False]\n"
     ]
    }
   ],
   "source": [
    "print(np.less(m,n))"
   ]
  },
  {
   "cell_type": "code",
   "execution_count": 4,
   "id": "6e22ead1-d0cc-41d8-a054-cc780760ef02",
   "metadata": {},
   "outputs": [
    {
     "name": "stdout",
     "output_type": "stream",
     "text": [
      "[False False  True]\n"
     ]
    }
   ],
   "source": [
    "print(np.greater_equal(m,n))"
   ]
  },
  {
   "cell_type": "code",
   "execution_count": 6,
   "id": "9fbd7980-5c1c-41e2-a586-5f3a45e19e22",
   "metadata": {},
   "outputs": [
    {
     "name": "stdout",
     "output_type": "stream",
     "text": [
      "[ True  True False]\n"
     ]
    }
   ],
   "source": [
    "print(np.less_equal(m,n))"
   ]
  },
  {
   "cell_type": "code",
   "execution_count": null,
   "id": "2f6bc90e-9c09-4406-bc90-e9a7d0217f10",
   "metadata": {},
   "outputs": [],
   "source": []
  }
 ],
 "metadata": {
  "kernelspec": {
   "display_name": "Python 3 (ipykernel)",
   "language": "python",
   "name": "python3"
  },
  "language_info": {
   "codemirror_mode": {
    "name": "ipython",
    "version": 3
   },
   "file_extension": ".py",
   "mimetype": "text/x-python",
   "name": "python",
   "nbconvert_exporter": "python",
   "pygments_lexer": "ipython3",
   "version": "3.10.12"
  }
 },
 "nbformat": 4,
 "nbformat_minor": 5
}
