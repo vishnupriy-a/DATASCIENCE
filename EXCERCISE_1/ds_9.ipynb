{
 "cells": [
  {
   "cell_type": "code",
   "execution_count": 5,
   "id": "19c62470-849c-49bc-b44d-3b119c8917f3",
   "metadata": {},
   "outputs": [
    {
     "name": "stdout",
     "output_type": "stream",
     "text": [
      "array before swap\n",
      "[[1 2 3 1]\n",
      " [4 5 6 2]\n",
      " [7 8 9 3]\n",
      " [3 3 3 4]]\n",
      "array after swap\n",
      "[[3 3 3 4]\n",
      " [4 5 6 2]\n",
      " [7 8 9 3]\n",
      " [1 2 3 1]]\n"
     ]
    }
   ],
   "source": [
    "import numpy as np\n",
    "v=np.array([[1,2,3,1],[4,5,6,2],[7,8,9,3],[3,3,3,4]])\n",
    "print(\"array before swap\")\n",
    "print(v)\n",
    "v[[0,3],:]=v[[3,0],:]\n",
    "print(\"array after swap\")\n",
    "print(v)"
   ]
  },
  {
   "cell_type": "code",
   "execution_count": null,
   "id": "2a955181-d1b6-4236-8f21-50153c596ffe",
   "metadata": {},
   "outputs": [],
   "source": []
  }
 ],
 "metadata": {
  "kernelspec": {
   "display_name": "Python 3 (ipykernel)",
   "language": "python",
   "name": "python3"
  },
  "language_info": {
   "codemirror_mode": {
    "name": "ipython",
    "version": 3
   },
   "file_extension": ".py",
   "mimetype": "text/x-python",
   "name": "python",
   "nbconvert_exporter": "python",
   "pygments_lexer": "ipython3",
   "version": "3.10.12"
  }
 },
 "nbformat": 4,
 "nbformat_minor": 5
}
