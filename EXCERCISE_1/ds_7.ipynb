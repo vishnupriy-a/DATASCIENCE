{
 "cells": [
  {
   "cell_type": "code",
   "execution_count": 3,
   "id": "f2ea4e2d-03a4-49f4-8628-a56f8638a43a",
   "metadata": {},
   "outputs": [],
   "source": [
    "import numpy as np\n",
    "n=np.array([[1,2,3],[4,5,6],[7,8,9]])\n",
    "np.savetxt(\"mytext.txt\",n)"
   ]
  },
  {
   "cell_type": "code",
   "execution_count": 6,
   "id": "192996b1-80e5-46a1-920a-2060b0092e20",
   "metadata": {},
   "outputs": [
    {
     "name": "stdout",
     "output_type": "stream",
     "text": [
      "[[1 2 3]\n",
      " [4 5 6]\n",
      " [7 8 9]]\n"
     ]
    }
   ],
   "source": [
    "y=np.loadtxt(\"mytext.txt\").astype(int)\n",
    "print(y)"
   ]
  }
 ],
 "metadata": {
  "kernelspec": {
   "display_name": "Python 3 (ipykernel)",
   "language": "python",
   "name": "python3"
  },
  "language_info": {
   "codemirror_mode": {
    "name": "ipython",
    "version": 3
   },
   "file_extension": ".py",
   "mimetype": "text/x-python",
   "name": "python",
   "nbconvert_exporter": "python",
   "pygments_lexer": "ipython3",
   "version": "3.10.12"
  }
 },
 "nbformat": 4,
 "nbformat_minor": 5
}
