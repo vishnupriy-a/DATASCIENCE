{
 "cells": [
  {
   "cell_type": "code",
   "execution_count": 35,
   "id": "6440ed4e-777c-4888-ba56-6be0b8003e29",
   "metadata": {},
   "outputs": [
    {
     "name": "stdin",
     "output_type": "stream",
     "text": [
      "enter the no.of rows: 2\n",
      "enter the no.of columns: 2\n"
     ]
    },
    {
     "name": "stdout",
     "output_type": "stream",
     "text": [
      "enter the elements of the first matrix:\n"
     ]
    },
    {
     "name": "stdin",
     "output_type": "stream",
     "text": [
      " 1 2 3 4\n"
     ]
    },
    {
     "name": "stdout",
     "output_type": "stream",
     "text": [
      "[[1 2]\n",
      " [3 4]]\n"
     ]
    },
    {
     "name": "stdin",
     "output_type": "stream",
     "text": [
      "enter the no.of rows: 2\n",
      "enter the no.of columns: 2\n"
     ]
    },
    {
     "name": "stdout",
     "output_type": "stream",
     "text": [
      "enter the elements of the second matrix:\n"
     ]
    },
    {
     "name": "stdin",
     "output_type": "stream",
     "text": [
      " 4 3 2 1\n"
     ]
    },
    {
     "name": "stdout",
     "output_type": "stream",
     "text": [
      "[[4 3]\n",
      " [2 1]]\n"
     ]
    }
   ],
   "source": [
    "import numpy as np\n",
    "row=int(input(\"enter the no.of rows:\"))\n",
    "col=int(input(\"enter the no.of columns:\"))\n",
    "matrix1=[]\n",
    "print(\"enter the elements of the first matrix:\")\n",
    "element=list(map(int,input().split()))\n",
    "matrix1=np.array(element).reshape(row,col)\n",
    "print(matrix1)\n",
    "row=int(input(\"enter the no.of rows:\"))\n",
    "col=int(input(\"enter the no.of columns:\"))\n",
    "matrix2=[]\n",
    "print(\"enter the elements of the second matrix:\")\n",
    "element=list(map(int,input().split()))\n",
    "matrix2=np.array(element).reshape(row,col)\n",
    "print(matrix2)"
   ]
  },
  {
   "cell_type": "code",
   "execution_count": 36,
   "id": "aa407c1b-1c73-4d40-9feb-77328065cc54",
   "metadata": {},
   "outputs": [
    {
     "name": "stdout",
     "output_type": "stream",
     "text": [
      "[[ 8  5]\n",
      " [20 13]]\n"
     ]
    }
   ],
   "source": [
    "print(np.dot(matrix1,matrix2))"
   ]
  },
  {
   "cell_type": "code",
   "execution_count": 37,
   "id": "656fcd29-271b-4883-a026-c1851ed3fee5",
   "metadata": {},
   "outputs": [
    {
     "name": "stdout",
     "output_type": "stream",
     "text": [
      "[[1 3]\n",
      " [2 4]]\n",
      "[[4 2]\n",
      " [3 1]]\n"
     ]
    }
   ],
   "source": [
    "print(np.transpose(matrix1))\n",
    "print(np.transpose(matrix2))"
   ]
  },
  {
   "cell_type": "code",
   "execution_count": 38,
   "id": "dfe074a0-1a2d-4f63-8128-e5fa195f30f8",
   "metadata": {},
   "outputs": [
    {
     "name": "stdout",
     "output_type": "stream",
     "text": [
      "5\n",
      "5\n"
     ]
    }
   ],
   "source": [
    "print(np.trace(matrix1))\n",
    "print(np.trace(matrix2))"
   ]
  },
  {
   "cell_type": "code",
   "execution_count": 25,
   "id": "6aa7b021-5c4c-4d5f-b6ec-586da7249b01",
   "metadata": {},
   "outputs": [
    {
     "name": "stdout",
     "output_type": "stream",
     "text": [
      "2\n",
      "2\n"
     ]
    }
   ],
   "source": [
    "print(np.linalg.matrix_rank(matrix1))\n",
    "print(np.linalg.matrix_rank(matrix2))"
   ]
  },
  {
   "cell_type": "code",
   "execution_count": 39,
   "id": "97ce2ada-4784-49bd-bc16-2ddacce35a47",
   "metadata": {},
   "outputs": [
    {
     "name": "stdout",
     "output_type": "stream",
     "text": [
      "-2.0000000000000004\n",
      "-2.0\n"
     ]
    }
   ],
   "source": [
    "print(np.linalg.det(matrix1))\n",
    "print(np.linalg.det(matrix2))"
   ]
  },
  {
   "cell_type": "code",
   "execution_count": 40,
   "id": "651abba6-2447-4b19-b4b5-41db9cc290bd",
   "metadata": {},
   "outputs": [
    {
     "name": "stdout",
     "output_type": "stream",
     "text": [
      "[[-2.   1. ]\n",
      " [ 1.5 -0.5]]\n",
      "[[-0.5  1.5]\n",
      " [ 1.  -2. ]]\n"
     ]
    }
   ],
   "source": [
    "print(np.linalg.inv(matrix1))\n",
    "print(np.linalg.inv(matrix2))"
   ]
  },
  {
   "cell_type": "code",
   "execution_count": 42,
   "id": "24577b3d-4bfd-401e-990d-2ff764cb1a80",
   "metadata": {},
   "outputs": [
    {
     "name": "stdout",
     "output_type": "stream",
     "text": [
      "EigResult(eigenvalues=array([-0.37228132,  5.37228132]), eigenvectors=array([[-0.82456484, -0.41597356],\n",
      "       [ 0.56576746, -0.90937671]]))\n",
      "EigResult(eigenvalues=array([ 5.37228132, -0.37228132]), eigenvectors=array([[ 0.90937671, -0.56576746],\n",
      "       [ 0.41597356,  0.82456484]]))\n"
     ]
    }
   ],
   "source": [
    "print(np.linalg.eig(matrix1))\n",
    "print(np.linalg.eig(matrix2))"
   ]
  },
  {
   "cell_type": "code",
   "execution_count": null,
   "id": "fd1743df-f2be-4437-8513-292c4d068b7a",
   "metadata": {},
   "outputs": [],
   "source": []
  }
 ],
 "metadata": {
  "kernelspec": {
   "display_name": "Python 3 (ipykernel)",
   "language": "python",
   "name": "python3"
  },
  "language_info": {
   "codemirror_mode": {
    "name": "ipython",
    "version": 3
   },
   "file_extension": ".py",
   "mimetype": "text/x-python",
   "name": "python",
   "nbconvert_exporter": "python",
   "pygments_lexer": "ipython3",
   "version": "3.10.12"
  }
 },
 "nbformat": 4,
 "nbformat_minor": 5
}
